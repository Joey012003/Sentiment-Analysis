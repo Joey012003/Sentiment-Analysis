{
 "cells": [
  {
   "cell_type": "markdown",
   "id": "e81f174c",
   "metadata": {},
   "source": [
    "# Twitter Sentiment Analysis - EDA\n",
    "This notebook performs univariate and multivariate analysis on the Twitter sentiment dataset."
   ]
  },
  {
   "cell_type": "markdown",
   "id": "38c90920",
   "metadata": {},
   "source": [
    "## Univariate Analysis\n",
    "### Sentiment Distribution"
   ]
  },
  {
   "cell_type": "code",
   "execution_count": null,
   "id": "5493bee9",
   "metadata": {},
   "outputs": [],
   "source": [
    "\n",
    "import seaborn as sns\n",
    "import matplotlib.pyplot as plt\n",
    "\n",
    "sns.countplot(x='sentiment', data=df)\n",
    "plt.title('Sentiment Distribution')\n",
    "plt.xlabel('Sentiment')\n",
    "plt.ylabel('Tweet Count')\n",
    "plt.show()\n"
   ]
  },
  {
   "cell_type": "markdown",
   "id": "3a8f5bab",
   "metadata": {},
   "source": [
    "### Tweet Length Distribution"
   ]
  },
  {
   "cell_type": "code",
   "execution_count": null,
   "id": "c9b2c942",
   "metadata": {},
   "outputs": [],
   "source": [
    "\n",
    "df['tweet_length'] = df['clean_tweet'].apply(len)\n",
    "\n",
    "plt.figure(figsize=(10, 5))\n",
    "sns.histplot(df['tweet_length'], kde=True, bins=40)\n",
    "plt.title('Distribution of Tweet Lengths')\n",
    "plt.xlabel('Tweet Length')\n",
    "plt.ylabel('Frequency')\n",
    "plt.show()\n",
    "\n",
    "sns.boxplot(x='sentiment', y='tweet_length', data=df)\n",
    "plt.title('Tweet Length by Sentiment')\n",
    "plt.show()\n"
   ]
  },
  {
   "cell_type": "markdown",
   "id": "bfea4e2a",
   "metadata": {},
   "source": [
    "## Bivariate/Multivariate Analysis\n",
    "### Word Count vs Sentiment"
   ]
  },
  {
   "cell_type": "code",
   "execution_count": null,
   "id": "1d8227e5",
   "metadata": {},
   "outputs": [],
   "source": [
    "\n",
    "df['word_count'] = df['clean_tweet'].apply(lambda x: len(x.split()))\n",
    "\n",
    "sns.boxplot(x='sentiment', y='word_count', data=df)\n",
    "plt.title(\"Word Count Distribution by Sentiment\")\n",
    "plt.show()\n"
   ]
  },
  {
   "cell_type": "markdown",
   "id": "3040b1a8",
   "metadata": {},
   "source": [
    "### Correlation Matrix of Numeric Features"
   ]
  },
  {
   "cell_type": "code",
   "execution_count": null,
   "id": "dcc314d8",
   "metadata": {},
   "outputs": [],
   "source": [
    "\n",
    "import numpy as np\n",
    "\n",
    "corr_matrix = df[['tweet_length', 'word_count']].corr()\n",
    "\n",
    "sns.heatmap(corr_matrix, annot=True, cmap='coolwarm')\n",
    "plt.title('Correlation Matrix of Numeric Features')\n",
    "plt.show()\n"
   ]
  },
  {
   "cell_type": "markdown",
   "id": "7a53d071",
   "metadata": {},
   "source": [
    "## Insights Summary\n",
    "\n",
    "- **Sentiment Distribution**: Distribution of sentiment classes helps understand class imbalance.\n",
    "- **Tweet Length & Word Count**: These features vary with sentiment and may impact classification.\n",
    "- **Correlations**: Tweet length and word count are strongly correlated as expected.\n",
    "- **Feature Influence**: Textual features (via TF-IDF) are primary drivers of sentiment classification, with tweet length and word count potentially serving as supporting features.\n"
   ]
  }
 ],
 "metadata": {},
 "nbformat": 4,
 "nbformat_minor": 5
}
